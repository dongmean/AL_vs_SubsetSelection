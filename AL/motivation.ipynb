{
 "cells": [
  {
   "cell_type": "code",
   "execution_count": 1,
   "metadata": {},
   "outputs": [],
   "source": [
    "# Python\n",
    "import os\n",
    "import random\n",
    "\n",
    "# Torch\n",
    "import torch\n",
    "import numpy as np\n",
    "import torch.nn as nn\n",
    "import torch.optim as optim\n",
    "from torch.utils.data import DataLoader\n",
    "import torch.optim.lr_scheduler as lr_scheduler\n",
    "from torch.utils.data.sampler import SubsetRandomSampler\n",
    "\n",
    "# Torchvison\n",
    "import torchvision.transforms as T\n",
    "\n",
    "# Utils\n",
    "from tqdm import tqdm\n",
    "from utils import *\n",
    "\n",
    "# Custom\n",
    "from ptflops import get_model_complexity_info\n",
    "import nets\n",
    "import datasets as datasets\n",
    "import methods as methods\n",
    "\n",
    "# Seed\n",
    "random.seed(0)\n",
    "torch.manual_seed(0)\n",
    "torch.backends.cudnn.deterministic = True"
   ]
  },
  {
   "cell_type": "code",
   "execution_count": 2,
   "metadata": {},
   "outputs": [],
   "source": [
    "import easydict\n",
    " \n",
    "args = easydict.EasyDict({\n",
    "        # Setup\n",
    "        \"dataset\": 'CIFAR10',\n",
    "        \"resolution\": 32,\n",
    "        \"model\":\"ResNet18\",\n",
    "        \"seed\": 0,\n",
    "        \"data_path\":'../data',\n",
    "        \"gpu\":[0],\n",
    "        \"workers\": 20,\n",
    "        \"print_freq\":300,\n",
    "        # AL\n",
    "        \"cycle\": 10,\n",
    "        \"n_query\": 1000,\n",
    "        \"subset\": 50000,\n",
    "        # Optimization\n",
    "        \"epochs\":100,\n",
    "        \"batch_size\": 64,\n",
    "        \"test_batch_size\": 500,\n",
    "        \"optimizer\": 'SGD',\n",
    "        \"lr\":0.1,\n",
    "        \"min_lr\": 1e-4,\n",
    "        \"momentum\": 0.9,\n",
    "        \"weight_decay\": 5e-4,\n",
    "        \"nesterov\": True,\n",
    "        \"scheduler\": \"CosineAnnealingLR\",\n",
    "        \"selection_optimizer\": \"SGD\",\n",
    "        \"selection_batch\": 128,\n",
    "        \"selection_momentum\": 0.9,\n",
    "        \"selection_weight_decay\": 5e-4,\n",
    "        \"selection_nesterov\": True,\n",
    "        # Coreset\n",
    "        \"method\": \"Uncertainty\", #kCenterGreedy Uncertainty, GTknownUncertainty\n",
    "        \"balance\": False,\n",
    "        \"uncertainty\": 'LeastConfidence',\n",
    "        \"submodular\": \"GraphCut\",\n",
    "        \"submodular_greedy\": \"LazyGreedy\",\n",
    "        \"resume\": 10\n",
    "})\n",
    "args.device = 'cuda' if torch.cuda.is_available() else 'cpu'\n"
   ]
  },
  {
   "cell_type": "markdown",
   "metadata": {},
   "source": [
    "# 1. Seen, Uncertainty"
   ]
  },
  {
   "cell_type": "code",
   "execution_count": 5,
   "metadata": {},
   "outputs": [],
   "source": [
    "n_train = 10000\n",
    "Warm_up_epochs = 10"
   ]
  },
  {
   "cell_type": "code",
   "execution_count": 6,
   "metadata": {},
   "outputs": [
    {
     "name": "stdout",
     "output_type": "stream",
     "text": [
      "im_size:  torch.Size([3, 32, 32])\n",
      "Initial set size:  50000\n",
      "| Training on model ResNet18\n",
      "MACs:                           556.65 MMac\n",
      "Number of parameters:           11.17 M \n",
      "lr: 0.1, momentum: 0.9, decay: 0.0005\n"
     ]
    }
   ],
   "source": [
    "channel, im_size, num_classes, class_names, mean, std, dst_train, dst_u_all, dst_test = datasets.__dict__[args.dataset](args)\n",
    "args.channel, args.im_size, args.num_classes, args.class_names = channel, im_size, num_classes, class_names\n",
    "print(\"im_size: \", dst_train[0][0].shape)\n",
    "\n",
    "# Initialize Unlabeled Set & Labeled Set\n",
    "indices = list(range(len(dst_train)))\n",
    "\n",
    "labeled_set = indices\n",
    "unlabeled_set = indices[n_train:]\n",
    "\n",
    "dst_subset = torch.utils.data.Subset(dst_train, labeled_set)\n",
    "print(\"Initial set size: \", len(dst_subset))\n",
    "\n",
    "# BackgroundGenerator for ImageNet to speed up dataloaders\n",
    "if args.dataset == \"ImageNet\" or args.dataset == \"ImageNet30\":\n",
    "    train_loader = DataLoaderX(dst_subset, batch_size=args.batch_size, shuffle=True, num_workers=args.workers, pin_memory=False)\n",
    "    test_loader = DataLoaderX(dst_test, batch_size=args.test_batch_size, shuffle=False, num_workers=args.workers, pin_memory=False)\n",
    "else:\n",
    "    train_loader = torch.utils.data.DataLoader(dst_subset, batch_size=args.batch_size, shuffle=True, num_workers=args.workers, pin_memory=False)\n",
    "    test_loader = torch.utils.data.DataLoader(dst_test, batch_size=args.test_batch_size, shuffle=False, num_workers=args.workers, pin_memory=False)\n",
    "\n",
    "# Get Model\n",
    "print(\"| Training on model %s\" % args.model)\n",
    "network = get_model(args, nets, args.model)\n",
    "\n",
    "macs, params = get_model_complexity_info(network, (3, im_size[0], im_size[1]), as_strings=True, print_per_layer_stat=False, verbose=False)\n",
    "print('{:<30}  {:<8}'.format('MACs: ', macs))\n",
    "print('{:<30}  {:<8}'.format('Number of parameters: ', params))\n",
    "\n",
    "# Get optim configurations for Distrubted SGD\n",
    "criterion, optimizer, scheduler, rec = get_optim_configurations(args, network, train_loader)"
   ]
  },
  {
   "cell_type": "code",
   "execution_count": 7,
   "metadata": {},
   "outputs": [
    {
     "name": "stdout",
     "output_type": "stream",
     "text": [
      "==========Start Training==========\n",
      "Test acc: * Prec@1 77.230\n",
      "Label set size 50000: Test acc 77.23000144958496\n"
     ]
    }
   ],
   "source": [
    "# Training\n",
    "print(\"==========Start Training==========\")\n",
    "for epoch in range(Warm_up_epochs):\n",
    "    # train for one epoch\n",
    "    train(train_loader, network, criterion, optimizer, scheduler, epoch, args, rec, if_weighted=False)\n",
    "\n",
    "acc = test(test_loader, network, criterion, epoch, args, rec)\n",
    "print('Label set size {}: Test acc {}'.format(len(labeled_set), acc))"
   ]
  },
  {
   "cell_type": "code",
   "execution_count": 8,
   "metadata": {},
   "outputs": [],
   "source": [
    "dst_unlabeled = torch.utils.data.Subset(dst_u_all, unlabeled_set)\n",
    "unlabeled_loader = torch.utils.data.DataLoader(dst_unlabeled, batch_size=args.test_batch_size, shuffle=False, num_workers=args.workers)"
   ]
  },
  {
   "cell_type": "code",
   "execution_count": 9,
   "metadata": {},
   "outputs": [
    {
     "name": "stdout",
     "output_type": "stream",
     "text": [
      "| Selecting for batch [  1/ 80]\n",
      "# of uncertain_sorted_idx:  40000\n"
     ]
    }
   ],
   "source": [
    "scores = np.array([])\n",
    "batch_num = len(unlabeled_loader)\n",
    "\n",
    "network.eval()\n",
    "with torch.no_grad():\n",
    "    for i, (input, _) in enumerate(unlabeled_loader):\n",
    "        if i % args.print_freq == 0:\n",
    "            print(\"| Selecting for batch [%3d/%3d]\" % (i + 1, batch_num))\n",
    "        if args.uncertainty == \"LeastConfidence\":\n",
    "            scores = np.append(scores, network(input.to(args.device)).max(axis=1).values.cpu().numpy())\n",
    "        elif args.uncertainty == \"Entropy\":\n",
    "            preds = torch.nn.functional.softmax(network(input.to(args.device)), dim=1).cpu().numpy()\n",
    "            scores = np.append(scores, (np.log(preds + 1e-6) * preds).sum(axis=1))\n",
    "        elif args.uncertainty == 'Margin':\n",
    "            preds = torch.nn.functional.softmax(network(input.to(args.device)), dim=1)\n",
    "            preds_argmax = torch.argmax(preds, dim=1)\n",
    "            max_preds = preds[torch.ones(preds.shape[0], dtype=bool), preds_argmax].clone()\n",
    "            preds[torch.ones(preds.shape[0], dtype=bool), preds_argmax] = -1.0\n",
    "            preds_sub_argmax = torch.argmax(preds, dim=1)\n",
    "            scores = np.append(scores, (max_preds - preds[torch.ones(preds.shape[0], dtype=bool), preds_sub_argmax]).cpu().numpy())\n",
    "\n",
    "uncertain_sorted_idx = np.argsort(scores)\n",
    "print(\"# of uncertain_sorted_idx: \", len(uncertain_sorted_idx))"
   ]
  },
  {
   "cell_type": "code",
   "execution_count": 10,
   "metadata": {},
   "outputs": [
    {
     "name": "stdout",
     "output_type": "stream",
     "text": [
      "Grid: 0,  Extended set size: 18000\n",
      "lr: 0.1, momentum: 0.9, decay: 0.0005\n",
      "==========Start Training==========\n",
      "Test acc: * Prec@1 92.230\n",
      "Grid 0: Test acc 92.23000106811523\n",
      "==========Finished==========\n",
      "Grid: 1,  Extended set size: 18000\n",
      "lr: 0.1, momentum: 0.9, decay: 0.0005\n",
      "==========Start Training==========\n",
      "Test acc: * Prec@1 91.570\n",
      "Grid 1: Test acc 91.57000160217285\n",
      "==========Finished==========\n",
      "Grid: 2,  Extended set size: 18000\n",
      "lr: 0.1, momentum: 0.9, decay: 0.0005\n",
      "==========Start Training==========\n",
      "Test acc: * Prec@1 90.230\n",
      "Grid 2: Test acc 90.2300018310547\n",
      "==========Finished==========\n",
      "Grid: 3,  Extended set size: 18000\n",
      "lr: 0.1, momentum: 0.9, decay: 0.0005\n",
      "==========Start Training==========\n",
      "Test acc: * Prec@1 88.920\n",
      "Grid 3: Test acc 88.92000198364258\n",
      "==========Finished==========\n",
      "Grid: 4,  Extended set size: 18000\n",
      "lr: 0.1, momentum: 0.9, decay: 0.0005\n",
      "==========Start Training==========\n",
      "Test acc: * Prec@1 88.350\n",
      "Grid 4: Test acc 88.35000152587891\n",
      "==========Finished==========\n"
     ]
    }
   ],
   "source": [
    "labeled_set = indices[:n_train]\n",
    "\n",
    "n_grid = 5\n",
    "grid_size = int(len(uncertain_sorted_idx)/n_grid)\n",
    "logs = []\n",
    "for i in range(n_grid):\n",
    "    selected_indices = uncertain_sorted_idx[i*grid_size:(i+1)*grid_size]\n",
    "    adding_set = [unlabeled_set[idx] for idx in selected_indices]\n",
    "\n",
    "    new_labeled_set = np.append(labeled_set, adding_set)\n",
    "    assert len(new_labeled_set) == len(set(list(new_labeled_set)))\n",
    "\n",
    "    dst_subset = torch.utils.data.Subset(dst_train, new_labeled_set)\n",
    "    print(\"Grid: {},  Extended set size: {}\".format(i, len(dst_subset)))\n",
    "\n",
    "    # BackgroundGenerator for ImageNet to speed up dataloaders\n",
    "    if args.dataset == \"ImageNet\" or args.dataset == \"ImageNet30\":\n",
    "        train_loader = DataLoaderX(dst_subset, batch_size=args.batch_size, shuffle=True, num_workers=args.workers, pin_memory=False)\n",
    "        test_loader = DataLoaderX(dst_test, batch_size=args.test_batch_size, shuffle=False, num_workers=args.workers, pin_memory=False)\n",
    "    else:\n",
    "        train_loader = torch.utils.data.DataLoader(dst_subset, batch_size=args.batch_size, shuffle=True, num_workers=args.workers, pin_memory=False)\n",
    "        test_loader = torch.utils.data.DataLoader(dst_test, batch_size=args.test_batch_size, shuffle=False, num_workers=args.workers, pin_memory=False)\n",
    "    \n",
    "    # Get Model\n",
    "    network = get_model(args, nets, args.model)\n",
    "    criterion, optimizer, scheduler, rec = get_optim_configurations(args, network, train_loader)\n",
    "\n",
    "    print(\"==========Start Training==========\")\n",
    "    for epoch in range(args.epochs):\n",
    "        # train for one epoch\n",
    "        train(train_loader, network, criterion, optimizer, scheduler, epoch, args, rec, if_weighted=False)\n",
    "\n",
    "    acc = test(test_loader, network, criterion, epoch, args, rec)\n",
    "    print('Grid {}: Test acc {}'.format(i, acc))\n",
    "    logs.append([acc])\n",
    "    print(\"==========Finished==========\")\n",
    "    "
   ]
  },
  {
   "cell_type": "markdown",
   "metadata": {},
   "source": [
    "# Unseen, Uncertainty"
   ]
  },
  {
   "cell_type": "code",
   "execution_count": 11,
   "metadata": {},
   "outputs": [
    {
     "name": "stdout",
     "output_type": "stream",
     "text": [
      "im_size:  torch.Size([3, 32, 32])\n",
      "Initial set size:  10000\n",
      "| Training on model ResNet18\n",
      "MACs:                           556.65 MMac\n",
      "Number of parameters:           11.17 M \n",
      "lr: 0.1, momentum: 0.9, decay: 0.0005\n"
     ]
    }
   ],
   "source": [
    "channel, im_size, num_classes, class_names, mean, std, dst_train, dst_u_all, dst_test = datasets.__dict__[args.dataset](args)\n",
    "args.channel, args.im_size, args.num_classes, args.class_names = channel, im_size, num_classes, class_names\n",
    "print(\"im_size: \", dst_train[0][0].shape)\n",
    "\n",
    "# Initialize Unlabeled Set & Labeled Set\n",
    "indices = list(range(len(dst_train)))\n",
    "\n",
    "labeled_set = indices[:n_train]\n",
    "unlabeled_set = indices[n_train:]\n",
    "\n",
    "dst_subset = torch.utils.data.Subset(dst_train, labeled_set)\n",
    "print(\"Initial set size: \", len(dst_subset))\n",
    "\n",
    "# BackgroundGenerator for ImageNet to speed up dataloaders\n",
    "if args.dataset == \"ImageNet\" or args.dataset == \"ImageNet30\":\n",
    "    train_loader = DataLoaderX(dst_subset, batch_size=args.batch_size, shuffle=True, num_workers=args.workers, pin_memory=False)\n",
    "    test_loader = DataLoaderX(dst_test, batch_size=args.test_batch_size, shuffle=False, num_workers=args.workers, pin_memory=False)\n",
    "else:\n",
    "    train_loader = torch.utils.data.DataLoader(dst_subset, batch_size=args.batch_size, shuffle=True, num_workers=args.workers, pin_memory=False)\n",
    "    test_loader = torch.utils.data.DataLoader(dst_test, batch_size=args.test_batch_size, shuffle=False, num_workers=args.workers, pin_memory=False)\n",
    "\n",
    "# Get Model\n",
    "print(\"| Training on model %s\" % args.model)\n",
    "network = get_model(args, nets, args.model)\n",
    "\n",
    "macs, params = get_model_complexity_info(network, (3, im_size[0], im_size[1]), as_strings=True, print_per_layer_stat=False, verbose=False)\n",
    "print('{:<30}  {:<8}'.format('MACs: ', macs))\n",
    "print('{:<30}  {:<8}'.format('Number of parameters: ', params))\n",
    "\n",
    "# Get optim configurations for Distrubted SGD\n",
    "criterion, optimizer, scheduler, rec = get_optim_configurations(args, network, train_loader)"
   ]
  },
  {
   "cell_type": "code",
   "execution_count": 16,
   "metadata": {},
   "outputs": [
    {
     "name": "stdout",
     "output_type": "stream",
     "text": [
      "==========Start Training==========\n",
      "5\n",
      "Test acc: * Prec@1 78.800\n",
      "Label set size 10000: Test acc 78.80000114440918\n"
     ]
    }
   ],
   "source": [
    "# Training\n",
    "print(\"==========Start Training==========\")\n",
    "factor = int(len(dst_train)/n_train)\n",
    "print(factor)\n",
    "for epoch in range(factor*Warm_up_epochs):\n",
    "    # train for one epoch\n",
    "    train(train_loader, network, criterion, optimizer, scheduler, epoch, args, rec, if_weighted=False)\n",
    "\n",
    "acc = test(test_loader, network, criterion, epoch, args, rec)\n",
    "print('Label set size {}: Test acc {}'.format(len(labeled_set), acc))"
   ]
  },
  {
   "cell_type": "code",
   "execution_count": 17,
   "metadata": {},
   "outputs": [],
   "source": [
    "dst_unlabeled = torch.utils.data.Subset(dst_u_all, unlabeled_set)\n",
    "unlabeled_loader = torch.utils.data.DataLoader(dst_unlabeled, batch_size=args.test_batch_size, shuffle=False, num_workers=args.workers)"
   ]
  },
  {
   "cell_type": "code",
   "execution_count": 18,
   "metadata": {},
   "outputs": [
    {
     "name": "stdout",
     "output_type": "stream",
     "text": [
      "| Selecting for batch [  1/ 80]\n",
      "# of uncertain_sorted_idx_unseen:  40000\n"
     ]
    }
   ],
   "source": [
    "scores = np.array([])\n",
    "batch_num = len(unlabeled_loader)\n",
    "\n",
    "network.eval()\n",
    "with torch.no_grad():\n",
    "    for i, (input, _) in enumerate(unlabeled_loader):\n",
    "        if i % args.print_freq == 0:\n",
    "            print(\"| Selecting for batch [%3d/%3d]\" % (i + 1, batch_num))\n",
    "        if args.uncertainty == \"LeastConfidence\":\n",
    "            scores = np.append(scores, network(input.to(args.device)).max(axis=1).values.cpu().numpy())\n",
    "        elif args.uncertainty == \"Entropy\":\n",
    "            preds = torch.nn.functional.softmax(network(input.to(args.device)), dim=1).cpu().numpy()\n",
    "            scores = np.append(scores, (np.log(preds + 1e-6) * preds).sum(axis=1))\n",
    "        elif args.uncertainty == 'Margin':\n",
    "            preds = torch.nn.functional.softmax(network(input.to(args.device)), dim=1)\n",
    "            preds_argmax = torch.argmax(preds, dim=1)\n",
    "            max_preds = preds[torch.ones(preds.shape[0], dtype=bool), preds_argmax].clone()\n",
    "            preds[torch.ones(preds.shape[0], dtype=bool), preds_argmax] = -1.0\n",
    "            preds_sub_argmax = torch.argmax(preds, dim=1)\n",
    "            scores = np.append(scores, (max_preds - preds[torch.ones(preds.shape[0], dtype=bool), preds_sub_argmax]).cpu().numpy())\n",
    "\n",
    "uncertain_sorted_idx_unseen = np.argsort(scores)\n",
    "print(\"# of uncertain_sorted_idx_unseen: \", len(uncertain_sorted_idx_unseen))"
   ]
  },
  {
   "cell_type": "code",
   "execution_count": 19,
   "metadata": {},
   "outputs": [
    {
     "name": "stdout",
     "output_type": "stream",
     "text": [
      "Grid: 0,  Extended set size: 18000\n",
      "lr: 0.1, momentum: 0.9, decay: 0.0005\n",
      "==========Start Training==========\n",
      "Test acc: * Prec@1 91.590\n",
      "Grid 0: Test acc 91.59000167846679\n",
      "==========Finished==========\n",
      "Grid: 1,  Extended set size: 18000\n",
      "lr: 0.1, momentum: 0.9, decay: 0.0005\n",
      "==========Start Training==========\n",
      "Test acc: * Prec@1 91.100\n",
      "Grid 1: Test acc 91.10000076293946\n",
      "==========Finished==========\n",
      "Grid: 2,  Extended set size: 18000\n",
      "lr: 0.1, momentum: 0.9, decay: 0.0005\n",
      "==========Start Training==========\n",
      "Test acc: * Prec@1 90.460\n",
      "Grid 2: Test acc 90.46000175476074\n",
      "==========Finished==========\n",
      "Grid: 3,  Extended set size: 18000\n",
      "lr: 0.1, momentum: 0.9, decay: 0.0005\n",
      "==========Start Training==========\n",
      "Test acc: * Prec@1 89.210\n",
      "Grid 3: Test acc 89.21000175476074\n",
      "==========Finished==========\n",
      "Grid: 4,  Extended set size: 18000\n",
      "lr: 0.1, momentum: 0.9, decay: 0.0005\n",
      "==========Start Training==========\n",
      "Test acc: * Prec@1 88.180\n",
      "Grid 4: Test acc 88.18000183105468\n",
      "==========Finished==========\n"
     ]
    }
   ],
   "source": [
    "labeled_set = indices[:n_train]\n",
    "\n",
    "n_grid = 5\n",
    "grid_size = int(len(uncertain_sorted_idx)/n_grid)\n",
    "logs = []\n",
    "for i in range(n_grid):\n",
    "    selected_indices = uncertain_sorted_idx[i*grid_size:(i+1)*grid_size]\n",
    "    adding_set = [unlabeled_set[idx] for idx in selected_indices]\n",
    "\n",
    "    new_labeled_set = np.append(labeled_set, adding_set)\n",
    "    assert len(new_labeled_set) == len(set(list(new_labeled_set)))\n",
    "\n",
    "    dst_subset = torch.utils.data.Subset(dst_train, new_labeled_set)\n",
    "    print(\"Grid: {},  Extended set size: {}\".format(i, len(dst_subset)))\n",
    "\n",
    "    # BackgroundGenerator for ImageNet to speed up dataloaders\n",
    "    if args.dataset == \"ImageNet\" or args.dataset == \"ImageNet30\":\n",
    "        train_loader = DataLoaderX(dst_subset, batch_size=args.batch_size, shuffle=True, num_workers=args.workers, pin_memory=False)\n",
    "        test_loader = DataLoaderX(dst_test, batch_size=args.test_batch_size, shuffle=False, num_workers=args.workers, pin_memory=False)\n",
    "    else:\n",
    "        train_loader = torch.utils.data.DataLoader(dst_subset, batch_size=args.batch_size, shuffle=True, num_workers=args.workers, pin_memory=False)\n",
    "        test_loader = torch.utils.data.DataLoader(dst_test, batch_size=args.test_batch_size, shuffle=False, num_workers=args.workers, pin_memory=False)\n",
    "    \n",
    "    # Get Model\n",
    "    network = get_model(args, nets, args.model)\n",
    "    criterion, optimizer, scheduler, rec = get_optim_configurations(args, network, train_loader)\n",
    "\n",
    "    print(\"==========Start Training==========\")\n",
    "    for epoch in range(args.epochs):\n",
    "        # train for one epoch\n",
    "        train(train_loader, network, criterion, optimizer, scheduler, epoch, args, rec, if_weighted=False)\n",
    "\n",
    "    acc = test(test_loader, network, criterion, epoch, args, rec)\n",
    "    print('Grid {}: Test acc {}'.format(i, acc))\n",
    "    logs.append([acc])\n",
    "    print(\"==========Finished==========\")\n",
    "    "
   ]
  },
  {
   "cell_type": "code",
   "execution_count": null,
   "metadata": {},
   "outputs": [],
   "source": []
  }
 ],
 "metadata": {
  "interpreter": {
   "hash": "d4d1e4263499bec80672ea0156c357c1ee493ec2b1c70f0acce89fc37c4a6abe"
  },
  "kernelspec": {
   "display_name": "Python 3.8.10 ('base')",
   "language": "python",
   "name": "python3"
  },
  "language_info": {
   "codemirror_mode": {
    "name": "ipython",
    "version": 3
   },
   "file_extension": ".py",
   "mimetype": "text/x-python",
   "name": "python",
   "nbconvert_exporter": "python",
   "pygments_lexer": "ipython3",
   "version": "3.8.10"
  },
  "orig_nbformat": 4
 },
 "nbformat": 4,
 "nbformat_minor": 2
}
